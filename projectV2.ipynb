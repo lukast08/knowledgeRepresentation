{
 "cells": [
  {
   "cell_type": "code",
   "execution_count": null,
   "metadata": {},
   "outputs": [],
   "source": [
    "from rdflib import Graph, Dataset, RDF\n",
    "dataset = Dataset()\n",
    "try:\n",
    "    dataset.parse(\"poke-a.nq\")\n",
    "except Exception as e:\n",
    "    print(e)\n"
   ]
  },
  {
   "cell_type": "code",
   "execution_count": null,
   "metadata": {},
   "outputs": [],
   "source": [
    "def getAllPokemons():\n",
    "    query = \"\"\"\n",
    "    SELECT ?object\n",
    "    WHERE {\n",
    "        GRAPH <https://pokemonkg.org/dataset/pokewiki-de-pokemonlist> {\n",
    "            ?subject ?predicate ?object .\n",
    "            FILTER (?predicate = <http://www.w3.org/2000/01/rdf-schema#label>)\n",
    "            FILTER (lang(?object) = \"\" || lang(?object) = \"en\")\n",
    "        }\n",
    "    }\n",
    "    \"\"\"\n",
    "\n",
    "    results = dataset.query(query)\n",
    "    pokemons = []\n",
    "    for result in results:\n",
    "        pokemon = str(result).split(\"Literal('\")[1].split(\"'\")[0]\n",
    "        pokemons.append(pokemon)\n",
    "\n",
    "    return pokemons\n",
    "\n",
    "getAllPokemons()"
   ]
  },
  {
   "cell_type": "code",
   "execution_count": null,
   "metadata": {},
   "outputs": [],
   "source": [
    "def getPNGOf(pokemon):\n",
    "    imageLink = \"https://pokemonkg.org/media/image/globallink/pokemon/\"+pokemon+\".png\"\n",
    "    return imageLink\n",
    "    \n",
    "def getJPGOf(pokemon):\n",
    "    imageLink = \"https://pokemonkg.org/media/image/sugimori/pokemon/\"+pokemon+\".jpg\"\n",
    "    return imageLink\n",
    "\n",
    "getPNGOf(\"pikachu\")"
   ]
  },
  {
   "cell_type": "code",
   "execution_count": null,
   "metadata": {},
   "outputs": [],
   "source": [
    "def getTypeOf(pokemon):\n",
    "    query = \"\"\"\n",
    "    SELECT ?object\n",
    "    WHERE {\n",
    "        GRAPH <https://pokemonkg.org/dataset/bulbapedia> {\n",
    "            ?subject ?predicate ?object .\n",
    "            FILTER (?subject = <https://pokemonkg.org/instance/pokemon/\"\"\"+pokemon+\"\"\">)\n",
    "            FILTER (?predicate = <https://pokemonkg.org/ontology#hasType>)\n",
    "        }\n",
    "    }\n",
    "    \"\"\"\n",
    "\n",
    "    results = dataset.query(query)\n",
    "    types = []\n",
    "    for row in results:\n",
    "        types.append(str(row).split(\"Type:\")[1].split(\"'\")[0].lower())\n",
    "\n",
    "    return types\n",
    "\n",
    "getTypeOf(\"pikachu\")"
   ]
  },
  {
   "cell_type": "code",
   "execution_count": null,
   "metadata": {},
   "outputs": [],
   "source": [
    "def getColorOf(pokemon):\n",
    "    query = \"\"\"\n",
    "    SELECT ?object\n",
    "    WHERE {\n",
    "        GRAPH <https://pokemonkg.org/dataset/bulbapedia> {\n",
    "            ?subject ?predicate ?object .\n",
    "            FILTER (?subject = <https://pokemonkg.org/instance/pokemon/\"\"\"+pokemon+\"\"\">)\n",
    "            FILTER (?predicate = <https://pokemonkg.org/ontology#hasColour>)\n",
    "        }\n",
    "    }\n",
    "    \"\"\"\n",
    "\n",
    "    result = dataset.query(query)\n",
    "    return str(result.bindings).split(\"resource/\")[1].split(\"'\")[0].lower()\n",
    "\n",
    "getColorOf(\"pikachu\")"
   ]
  },
  {
   "cell_type": "code",
   "execution_count": null,
   "metadata": {},
   "outputs": [],
   "source": [
    "def getShapeOf(pokemon):\n",
    "    query = \"\"\"\n",
    "    SELECT ?object\n",
    "    WHERE {\n",
    "        GRAPH <https://pokemonkg.org/dataset/bulbapedia> {\n",
    "            ?subject ?predicate ?object .\n",
    "            FILTER (?subject = <https://pokemonkg.org/instance/pokemon/\"\"\"+pokemon+\"\"\">)\n",
    "            FILTER (?predicate = <https://pokemonkg.org/ontology#hasShape>)\n",
    "        }\n",
    "    }\n",
    "    \"\"\"\n",
    "\n",
    "    result = dataset.query(query)\n",
    "    return str(result.bindings).split(\"Shape:\")[1].split(\"'\")[0].lower()\n",
    "\n",
    "getShapeOf(\"pikachu\")"
   ]
  },
  {
   "cell_type": "code",
   "execution_count": null,
   "metadata": {},
   "outputs": [],
   "source": [
    "def getHeightOf(pokemon):\n",
    "    query = \"\"\"\n",
    "    SELECT ?object\n",
    "    WHERE {\n",
    "        GRAPH <https://pokemonkg.org/dataset/bulbapedia> {\n",
    "            ?subject ?predicate ?object .\n",
    "            FILTER (?subject = <https://pokemonkg.org/instance/pokemon/\"\"\"+pokemon+\"\"\"/height/quantity>)\n",
    "            FILTER (?predicate = <http://qudt.org/schema/qudt/quantityValue>)\n",
    "        }\n",
    "    }\n",
    "    \"\"\"\n",
    "\n",
    "    result = dataset.query(query)\n",
    "    return str(result.bindings).split(\"value/\")[1].split(\"'\")[0].lower()\n",
    "\n",
    "getHeightOf(\"pikachu\")"
   ]
  },
  {
   "cell_type": "code",
   "execution_count": null,
   "metadata": {},
   "outputs": [],
   "source": [
    "def getWeightOf(pokemon):\n",
    "    query = \"\"\"\n",
    "    SELECT ?object\n",
    "    WHERE {\n",
    "        GRAPH <https://pokemonkg.org/dataset/bulbapedia> {\n",
    "            ?subject ?predicate ?object .\n",
    "            FILTER (?subject = <https://pokemonkg.org/instance/pokemon/\"\"\"+pokemon+\"\"\"/weight/quantity>)\n",
    "            FILTER (?predicate = <http://qudt.org/schema/qudt/quantityValue>)\n",
    "        }\n",
    "    }\n",
    "    \"\"\"\n",
    "\n",
    "    result = dataset.query(query)\n",
    "    return str(result.bindings).split(\"value/\")[1].split(\"'\")[0].lower()\n",
    "\n",
    "getWeightOf(\"pikachu\")"
   ]
  },
  {
   "cell_type": "code",
   "execution_count": null,
   "metadata": {},
   "outputs": [],
   "source": [
    "def getMovesOf(pokemon):\n",
    "    query = \"\"\"\n",
    "    SELECT ?object\n",
    "    WHERE {\n",
    "        GRAPH <https://pokemonkg.org/dataset/bulbapedia> {\n",
    "            ?subject ?predicate ?object .\n",
    "            FILTER (?subject = <https://pokemonkg.org/instance/pokemon/\"\"\"+pokemon+\"\"\">)\n",
    "            FILTER (?predicate = <https://pokemonkg.org/ontology#isAbleToApply>)\n",
    "        }\n",
    "    }\n",
    "    \"\"\"\n",
    "\n",
    "    results = dataset.query(query)\n",
    "    moves = []\n",
    "    for row in results:\n",
    "        moves.append(str(row).split(\"move/\")[1].split(\"'\")[0].lower())\n",
    "\n",
    "    return moves\n",
    "\n",
    "getMovesOf(\"pignite\")"
   ]
  },
  {
   "cell_type": "code",
   "execution_count": 42,
   "metadata": {},
   "outputs": [
    {
     "data": {
      "text/plain": [
       "['static']"
      ]
     },
     "execution_count": 42,
     "metadata": {},
     "output_type": "execute_result"
    }
   ],
   "source": [
    "def getPossibleAbilitesOf(pokemon):\n",
    "    query = \"\"\"\n",
    "    SELECT ?object\n",
    "    WHERE {\n",
    "        GRAPH <https://pokemonkg.org/dataset/bulbapedia> {\n",
    "            ?subject ?predicate ?object .\n",
    "            FILTER (?subject = <https://pokemonkg.org/instance/pokemon/\"\"\"+pokemon+\"\"\">)\n",
    "            FILTER (?predicate = <https://pokemonkg.org/ontology#mayHaveAbility>)\n",
    "        }\n",
    "    }\n",
    "    \"\"\"\n",
    "\n",
    "    results = dataset.query(query)\n",
    "    possibleAbilities = []\n",
    "    for row in results:\n",
    "        possibleAbilities.append(str(row).split(\"ability/\")[1].split(\"'\")[0].lower())\n",
    "\n",
    "    return possibleAbilities\n",
    "\n",
    "getPossibleAbilitesOf(\"pikachu\")"
   ]
  },
  {
   "cell_type": "code",
   "execution_count": 41,
   "metadata": {},
   "outputs": [
    {
     "data": {
      "text/plain": [
       "['lightning-rod']"
      ]
     },
     "execution_count": 41,
     "metadata": {},
     "output_type": "execute_result"
    }
   ],
   "source": [
    "def getHiddenAbilitesOf(pokemon):\n",
    "    query = \"\"\"\n",
    "    SELECT ?object\n",
    "    WHERE {\n",
    "        GRAPH <https://pokemonkg.org/dataset/bulbapedia> {\n",
    "            ?subject ?predicate ?object .\n",
    "            FILTER (?subject = <https://pokemonkg.org/instance/pokemon/\"\"\"+pokemon+\"\"\">)\n",
    "            FILTER (?predicate = <https://pokemonkg.org/ontology#mayHaveHiddenAbility>)\n",
    "        }\n",
    "    }\n",
    "    \"\"\"\n",
    "\n",
    "    results = dataset.query(query)\n",
    "    hiddenAbilities = []\n",
    "    for row in results:\n",
    "        hiddenAbilities.append(str(row).split(\"ability/\")[1].split(\"'\")[0].lower())\n",
    "\n",
    "    return hiddenAbilities\n",
    "\n",
    "getHiddenAbilitesOf(\"pikachu\")"
   ]
  },
  {
   "cell_type": "code",
   "execution_count": null,
   "metadata": {},
   "outputs": [],
   "source": [
    "def getCatchRateOf(pokemon):\n",
    "    query = \"\"\"\n",
    "    SELECT ?object\n",
    "    WHERE {\n",
    "        GRAPH <https://pokemonkg.org/dataset/bulbapedia> {\n",
    "            ?subject ?predicate ?object .\n",
    "            FILTER (?subject = <https://pokemonkg.org/instance/pokemon/\"\"\"+pokemon+\"\"\">)\n",
    "            FILTER (?predicate = <https://pokemonkg.org/ontology#hasCatchRate>)\n",
    "        }\n",
    "    }\n",
    "    \"\"\"\n",
    "\n",
    "    result = dataset.query(query)\n",
    "    return str(result.bindings).split(\"Literal('\")[1].split(\"'\")[0]\n",
    "\n",
    "getCatchRateOf(\"pikachu\")"
   ]
  },
  {
   "cell_type": "code",
   "execution_count": null,
   "metadata": {},
   "outputs": [],
   "source": [
    "def ask(keyword):\n",
    "    answer = input(f'Is the pokemon {keyword} Y/N:')\n",
    "    return answer\n",
    "#type, color,shape, height(intervall), weight(intervall), moves, possible abilites, hidden abilites, evolves from, evolves to, habitat of, genus\n",
    "# \n",
    "keywords = ['blue', 'green']\n",
    "answers = {}\n",
    "\n",
    "for word in keywords:\n",
    "    answers[word] = ask(word)\n",
    "\n",
    "answers"
   ]
  }
 ],
 "metadata": {
  "kernelspec": {
   "display_name": "Python 3",
   "language": "python",
   "name": "python3"
  },
  "language_info": {
   "codemirror_mode": {
    "name": "ipython",
    "version": 3
   },
   "file_extension": ".py",
   "mimetype": "text/x-python",
   "name": "python",
   "nbconvert_exporter": "python",
   "pygments_lexer": "ipython3",
   "version": "3.11.5"
  }
 },
 "nbformat": 4,
 "nbformat_minor": 2
}
