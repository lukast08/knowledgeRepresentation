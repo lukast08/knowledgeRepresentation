{
 "cells": [
  {
   "cell_type": "code",
   "execution_count": 1,
   "metadata": {
    "ExecuteTime": {
     "end_time": "2023-12-19T15:36:03.108491Z",
     "start_time": "2023-12-19T15:35:58.393691Z"
    }
   },
   "outputs": [],
   "source": [
    "from rdflib import Graph, Dataset, RDF\n",
    "dataset = Dataset()\n",
    "try:\n",
    "    dataset.parse(\"poke-a.nq\")\n",
    "except Exception as e:\n",
    "    print(e)\n"
   ]
  },
  {
   "cell_type": "code",
   "execution_count": 2,
   "metadata": {
    "ExecuteTime": {
     "end_time": "2023-12-19T15:36:05.599054Z",
     "start_time": "2023-12-19T15:36:04.299116Z"
    }
   },
   "outputs": [
    {
     "data": {
      "text/plain": "['Eelektross',\n 'Hariyama',\n 'Lunatone',\n 'Mightyena',\n 'Blitzle',\n 'Smeargle',\n 'Malamar',\n 'Cleffa',\n 'Azumarill',\n 'Grumpig',\n 'Goodra',\n 'Escavalier',\n 'Wimpod',\n 'Magikarp',\n 'Magnemite',\n 'Duosion',\n 'Hoppip',\n 'Yanma',\n 'Milotic',\n 'Magneton',\n 'Oranguru',\n 'Lairon',\n 'Axew',\n 'Solrock',\n 'Snorlax',\n 'Frogadier',\n 'Rayquaza',\n 'Torracat',\n 'Tynamo',\n 'Zorua',\n 'Klang',\n 'Claydol',\n 'Galvantula',\n 'Poliwrath',\n 'Silcoon',\n 'Cobalion',\n 'Swampert',\n 'Goldeen',\n 'Hitmonlee',\n 'Garchomp',\n 'Croagunk',\n 'Infernape',\n 'Cinccino',\n 'Rhyhorn',\n 'Pidgeotto',\n 'Pancham',\n 'Turtonator',\n 'Hoothoot',\n 'Venonat',\n 'Roselia',\n 'Arcanine',\n 'Stantler',\n 'Poipole',\n 'Tangrowth',\n 'Minccino',\n 'Victini',\n 'Graveler',\n 'Shiftry',\n 'Lanturn',\n 'Luxray',\n 'Shelgon',\n 'Braixen',\n 'Omanyte',\n 'Liepard',\n 'Chandelure',\n 'Glameow',\n 'Vullaby',\n 'Blacephalon',\n 'Tyrunt',\n 'Onix',\n 'Pawniard',\n 'Dragonair',\n 'Persian',\n 'Aurorus',\n 'Rotom',\n 'Granbull',\n 'Torkoal',\n 'Beedrill',\n 'Shieldon',\n 'Seadra',\n 'Sunflora',\n 'Regigigas',\n 'Blissey',\n 'Registeel',\n 'Cosmog',\n 'Flaaffy',\n 'Salazzle',\n 'Beautifly',\n 'Scrafty',\n 'Archen',\n 'Misdreavus',\n 'Entei',\n 'Hitmontop',\n 'Ekans',\n 'Wormadam',\n 'Kangaskhan',\n 'Inkay',\n 'Deoxys',\n 'Klinklang',\n 'Tentacool',\n 'Exeggcute',\n 'Hippowdon',\n 'Sawsbuck',\n 'Mismagius',\n 'Cofagrigus',\n 'Pidgeot',\n 'Aegislash',\n 'Pignite',\n 'Stunky',\n 'Heracross',\n 'Shedinja',\n 'Gligar',\n 'Hippopotas',\n 'Surskit',\n 'Xurkitree',\n 'Golbat',\n 'Beartic',\n 'Dusclops',\n 'Lickitung',\n 'Swoobat',\n 'Togekiss',\n 'Trumbeak',\n 'Swablu',\n 'Beheeyem',\n 'Koffing',\n 'Feebas',\n 'Espurr',\n 'Elgyem',\n 'Geodude',\n 'Nidoran♀',\n 'Sharpedo',\n 'Mantine',\n 'Heliolisk',\n 'Audino',\n 'Brionne',\n 'Seviper',\n 'Haunter',\n 'Hydreigon',\n 'Umbreon',\n 'Charjabug',\n 'Genesect',\n 'Manectric',\n 'Regirock',\n 'Tyrogue',\n 'Serperior',\n 'Exploud',\n 'Snover',\n 'Tyranitar',\n 'Dunsparce',\n 'Sewaddle',\n 'Numel',\n 'Cresselia',\n 'Braviary',\n 'Pineco',\n 'Purrloin',\n 'Shelmet',\n 'Skiploom',\n 'Talonflame',\n 'Gurdurr',\n 'Goomy',\n 'Lycanroc',\n 'Combusken',\n 'Guzzlord',\n 'Camerupt',\n 'Abomasnow',\n 'Lumineon',\n 'Lilligant',\n 'Treecko',\n 'Plusle',\n 'Gothita',\n 'Aron',\n 'Mesprit',\n 'Purugly',\n 'Bonsly',\n 'Magby',\n 'Rockruff',\n 'Lickilicky',\n 'Metagross',\n 'Druddigon',\n 'Chespin',\n 'Ducklett',\n 'Jirachi',\n 'Blastoise',\n 'Venomoth',\n 'Simisear',\n 'Kingdra',\n 'Marill',\n 'Pyroar',\n 'Jigglypuff',\n 'Ferroseed',\n 'Machamp',\n 'Mimikyu',\n 'Roserade',\n 'Nidorina',\n 'Skitty',\n 'Palossand',\n 'Fennekin',\n 'Makuhita',\n 'Dewgong',\n 'Mudbray',\n 'Diglett',\n 'Ivysaur',\n 'Beldum',\n 'Igglybuff',\n 'Horsea',\n 'Ludicolo',\n 'Vikavolt',\n 'Slugma',\n 'Solgaleo',\n 'Dedenne',\n 'Moltres',\n 'Growlithe',\n 'Sandile',\n 'Whiscash',\n 'Mareep',\n 'Rowlet',\n 'Salamence',\n 'Machop',\n 'Silvally',\n 'Porygon',\n 'Qwilfish',\n 'Flabébé',\n 'Leafeon',\n 'Arbok',\n 'Garbodor',\n 'Nidoking',\n 'Uxie',\n 'Zoroark',\n 'Dhelmise',\n 'Honedge',\n 'Haxorus',\n 'Dustox',\n 'Poliwag',\n 'Charmeleon',\n 'Clefairy',\n 'Ledian',\n 'Abra',\n 'Loudred',\n 'Shellos',\n 'Octillery',\n 'Cherrim',\n 'Spinarak',\n 'Swinub',\n 'Glaceon',\n 'Squirtle',\n 'Trubbish',\n 'Flareon',\n 'Steelix',\n 'Doduo',\n 'Swalot',\n 'Tauros',\n 'Foongus',\n 'Forretress',\n 'Cottonee',\n 'Tapu Bulu',\n 'Voltorb',\n 'Staryu',\n 'Ho-Oh',\n 'Probopass',\n 'Primarina',\n 'Wailmer',\n 'Tepig',\n 'Melmetal',\n 'Torchic',\n 'Vileplume',\n 'Togedemaru',\n 'Larvitar',\n 'Luvdisc',\n 'Marshadow',\n 'Meowth',\n 'Eevee',\n 'Naganadel',\n 'Dugtrio',\n 'Bruxish',\n 'Fraxure',\n 'Lugia',\n 'Crabominable',\n 'Venusaur',\n 'Clauncher',\n 'Munna',\n 'Tapu Koko',\n 'Paras',\n 'Mudkip',\n 'Charmander',\n 'Petilil',\n 'Gallade',\n 'Poochyena',\n 'Gengar',\n 'Spinda',\n 'Bellossom',\n 'Reshiram',\n 'Jellicent',\n 'Buneary',\n 'Gothitelle',\n 'Gumshoos',\n 'Bulbasaur',\n 'Incineroar',\n 'Binacle',\n 'Charizard',\n 'Chimecho',\n 'Glalie',\n 'Swanna',\n 'Quilava',\n 'Muk',\n 'Oshawott',\n 'Toucannon',\n 'Leavanny',\n 'Medicham',\n 'Espeon',\n 'Zekrom',\n 'Torterra',\n 'Dwebble',\n 'Meganium',\n 'Marowak',\n 'Chikorita',\n 'Timburr',\n 'Porygon2',\n 'Kadabra',\n 'Natu',\n 'Karrablast',\n 'Tapu Lele',\n 'Zubat',\n 'Excadrill',\n 'Litleo',\n 'Noibat',\n 'Pelipper',\n 'Rufflet',\n 'Mankey',\n 'Wigglytuff',\n 'Emolga',\n 'Rhydon',\n 'Fletchling',\n 'Golisopod',\n 'Gigalith',\n 'Sawk',\n 'Bidoof',\n 'Donphan',\n 'Manaphy',\n 'Whimsicott',\n 'Skarmory',\n 'Remoraid',\n 'Dewott',\n 'Altaria',\n 'Finneon',\n 'Lucario',\n 'Piloswine',\n 'Amaura',\n 'Hoopa',\n 'Nuzleaf',\n 'Tyrantrum',\n 'Politoed',\n 'Shinx',\n 'Grotle',\n 'Popplio',\n 'Omastar',\n 'Skuntank',\n 'Vanilluxe',\n 'Flygon',\n 'Unfezant',\n 'Lapras',\n 'Kingler',\n 'Slowbro',\n 'Kricketot',\n 'Spiritomb',\n 'Solosis',\n 'Volcanion',\n 'Greninja',\n 'Butterfree',\n 'Alomomola',\n 'Barboach',\n 'Staravia',\n 'Staraptor',\n 'Anorith',\n 'Taillow',\n 'Bibarel',\n 'Pachirisu',\n 'Emboar',\n 'Spewpa',\n 'Dewpider',\n 'Simisage',\n 'Shuppet',\n 'Keldeo',\n 'Sudowoodo',\n 'Komala',\n 'Kyogre',\n 'Sentret',\n 'Mime Jr.',\n 'Bastiodon',\n 'Krookodile',\n 'Wartortle',\n 'Yanmega',\n 'Mamoswine',\n 'Gardevoir',\n 'Tympole',\n 'Snivy',\n 'Banette',\n 'Accelgor',\n 'Rhyperior',\n 'Gastrodon',\n 'Jynx',\n 'Sceptile',\n 'Gogoat',\n 'Hakamo-o',\n 'Magearna',\n 'Delcatty',\n 'Dusknoir',\n 'Zebstrika',\n 'Aerodactyl',\n 'Bouffalant',\n 'Kommo-o',\n 'Bronzong',\n 'Teddiursa',\n 'Cherubi',\n 'Sigilyph',\n 'Piplup',\n 'Tranquill',\n 'Musharna',\n 'Ariados',\n 'Chesnaught',\n 'Hypno',\n 'Rapidash',\n 'Slowpoke',\n 'Nidoran♂',\n 'Togepi',\n 'Meowstic',\n 'Meditite',\n 'Grimer',\n 'Furfrou',\n 'Zapdos',\n 'Volcarona',\n 'Celesteela',\n 'Monferno',\n 'Zweilous',\n 'Gyarados',\n 'Weezing',\n 'Gorebyss',\n 'Frillish',\n 'Giratina',\n 'Servine',\n 'Mienshao',\n 'Minun',\n 'Smoochum',\n 'Wynaut',\n 'Pichu',\n 'Grovyle',\n 'Yveltal',\n 'Conkeldurr',\n 'Skorupi',\n 'Scolipede',\n 'Sliggoo',\n 'Magmortar',\n 'Dragonite',\n 'Slakoth',\n 'Electrike',\n 'Lillipup',\n 'Sableye',\n 'Miltank',\n 'Drampa',\n 'Spritzee',\n 'Walrein',\n 'Gabite',\n 'Articuno',\n 'Mawile',\n 'Cacnea',\n 'Zigzagoon',\n 'Absol',\n 'Lurantis',\n 'Farfetch’d',\n 'Tropius',\n 'Type: Null',\n 'Huntail',\n 'Xerneas',\n 'Ralts',\n 'Doublade',\n 'Stoutland',\n 'Rampardos',\n 'Bunnelby',\n 'Araquanid',\n 'Kakuna',\n 'Trapinch',\n 'Lopunny',\n 'Crawdaunt',\n 'Primeape',\n 'Froakie',\n 'Barbaracle',\n 'Mothim',\n 'Thundurus',\n 'Gloom',\n 'Delphox',\n 'Klink',\n 'Houndoom',\n 'Scatterbug',\n 'Stufful',\n 'Elekid',\n 'Carracosta',\n 'Swirlix',\n 'Ponyta',\n 'Shellder',\n 'Groudon',\n 'Kartana',\n 'Poliwhirl',\n 'Terrakion',\n 'Bounsweet',\n 'Golduck',\n 'Vulpix',\n 'Scizor',\n 'Nosepass',\n 'Wingull',\n 'Heatmor',\n 'Gulpin',\n 'Eelektrik',\n 'Suicune',\n 'Murkrow',\n 'Virizion',\n 'Palkia',\n 'Spheal',\n 'Duskull',\n 'Dartrix',\n 'Baltoy',\n 'Ribombee',\n 'Toxapex',\n 'Wailord',\n 'Vibrava',\n 'Landorus',\n 'Latias',\n 'Raichu',\n 'Tsareena',\n 'Toxicroak',\n 'Mew',\n 'Riolu',\n 'Clawitzer',\n 'Wurmple',\n 'Pikipek',\n 'Archeops',\n 'Carvanha',\n 'Bergmite',\n 'Pyukumuku',\n 'Watchog',\n 'Jolteon',\n 'Pidove',\n 'Pansear',\n 'Vespiquen',\n 'Lunala',\n 'Golem',\n 'Necrozma',\n 'Minior',\n 'Electivire',\n 'Drowzee',\n 'Samurott',\n 'Alakazam',\n 'Starly',\n 'Gastly',\n 'Kricketune',\n 'Turtwig',\n 'Ursaring',\n 'Carbink',\n 'Wobbuffet',\n 'Drapion',\n 'Zeraora',\n 'Florges',\n 'Noctowl',\n 'Weavile',\n 'Electabuzz',\n 'Ampharos',\n 'Mantyke',\n 'Oricorio',\n 'Fearow',\n 'Nidoqueen',\n 'Regice',\n 'Woobat',\n 'Cradily',\n 'Joltik',\n 'Burmy',\n 'Salandit',\n 'Volbeat',\n 'Shuckle',\n 'Seel',\n 'Bisharp',\n 'Sneasel',\n 'Starmie',\n 'Cacturne',\n 'Cutiefly',\n 'Oddish',\n 'Sandygast',\n 'Jangmo-o',\n 'Seismitoad',\n 'Kirlia',\n 'Kabutops',\n 'Cranidos',\n 'Totodile',\n 'Golett',\n 'Whirlipede',\n 'Snubbull',\n 'Psyduck',\n 'Deino',\n 'Darumaka',\n 'Lampent',\n 'Xatu',\n 'Gliscor',\n 'Kabuto',\n 'Krabby',\n 'Typhlosion',\n 'Slowking',\n 'Phantump',\n 'Ambipom',\n 'Vaporeon',\n 'Basculin',\n 'Ninjask',\n 'Sandslash',\n 'Girafarig',\n 'Pheromosa',\n 'Togetic',\n 'Mareanie',\n 'Avalugg',\n 'Dragalge',\n 'Aromatisse',\n 'Chingling',\n 'Bayleef',\n 'Aggron',\n 'Meltan',\n 'Diggersby',\n 'Phione',\n 'Magnezone',\n 'Klefki',\n 'Drifblim',\n 'Empoleon',\n 'Heatran',\n 'Sunkern',\n 'Parasect',\n 'Buizel',\n 'Kyurem',\n 'Shaymin',\n 'Clamperl',\n 'Helioptile',\n 'Bagon',\n 'Phanpy',\n 'Yamask',\n 'Scraggy',\n 'Darkrai',\n 'Delibird',\n 'Palpitoad',\n 'Azurill',\n 'Seaking',\n 'Throh',\n 'Quagsire',\n 'Furret',\n 'Corphish',\n 'Cascoon',\n 'Spearow',\n 'Croconaw',\n 'Vigoroth',\n 'Happiny',\n 'Honchkrow',\n 'Blaziken',\n 'Lileep',\n 'Fomantis',\n 'Jumpluff',\n 'Metapod',\n 'Zygarde',\n 'Illumise',\n 'Stakataka',\n 'Armaldo',\n 'Diancie',\n 'Cosmoem',\n 'Trevenant',\n 'Porygon-Z',\n 'Nidorino',\n 'Litten',\n 'Meloetta',\n 'Slaking',\n 'Drilbur',\n 'Chimchar',\n 'Marshtomp',\n 'Corsola',\n 'Ditto',\n 'Cyndaquil',\n 'Feraligatr',\n 'Deerling',\n 'Drifloon',\n 'Raticate',\n 'Pansage',\n 'Litwick',\n 'Mewtwo',\n 'Bronzor',\n 'Crobat',\n 'Mudsdale',\n 'Mandibuzz',\n 'Swellow',\n 'Seedot',\n 'Gible',\n 'Tangela',\n 'Scyther',\n 'Venipede',\n 'Crustle',\n 'Combee',\n 'Hitmonchan',\n 'Pinsir',\n 'Ledyba',\n 'Cubone',\n 'Vivillon',\n 'Masquerain',\n 'Raikou',\n 'Floette',\n 'Larvesta',\n 'Clefable',\n 'Magcargo',\n 'Vanillish',\n 'Wishiwashi',\n 'Ninetales',\n 'Decidueye',\n 'Azelf',\n 'Swadloon',\n 'Breloom',\n 'Golurk',\n 'Rattata',\n 'Durant',\n 'Electrode',\n 'Skiddo',\n 'Ferrothorn',\n 'Cryogonal',\n 'Chinchou',\n 'Metang',\n 'Nihilego',\n 'Tentacruel',\n 'Dialga',\n 'Mr. Mime',\n 'Budew',\n 'Cubchoo',\n 'Vanillite',\n 'Amoonguss',\n 'Steenee',\n 'Pupitar',\n 'Gourgeist',\n 'Gothorita',\n 'Darmanitan',\n 'Crabrawler',\n 'Sandshrew',\n 'Tornadus',\n 'Snorunt',\n 'Cloyster',\n 'Fletchinder',\n 'Prinplup',\n 'Houndour',\n 'Chansey',\n 'Victreebel',\n 'Machoke',\n 'Morelull',\n 'Hawlucha',\n 'Noivern',\n 'Whismur',\n 'Pumpkaboo',\n 'Dodrio',\n 'Patrat',\n 'Sylveon',\n 'Herdier',\n 'Froslass',\n 'Bewear',\n 'Slurpuff',\n 'Castform',\n 'Linoone',\n 'Kecleon',\n 'Spoink',\n 'Arceus',\n 'Magmar',\n 'Carnivine',\n 'Aipom',\n 'Tapu Fini',\n 'Dratini',\n 'Panpour',\n 'Skrelp',\n 'Sealeo',\n 'Stunfisk',\n 'Pangoro',\n 'Shroomish',\n 'Yungoos',\n 'Boldore',\n 'Pikachu',\n 'Weedle',\n 'Chatot',\n 'Exeggutor',\n 'Grubbin',\n 'Latios',\n 'Tirtouga',\n 'Quilladin',\n 'Bellsprout',\n 'Shiinotic',\n 'Simipour',\n 'Lombre',\n 'Buzzwole',\n 'Caterpie',\n 'Reuniclus',\n 'Nincada',\n 'Mienfoo',\n 'Maractus',\n 'Luxio',\n 'Munchlax',\n 'Wooper',\n 'Zangoose',\n 'Passimian',\n 'Roggenrola',\n 'Pidgey',\n 'Floatzel',\n 'Relicanth',\n 'Weepinbell',\n 'Krokorok',\n 'Unown',\n 'Comfey',\n 'Celebi',\n 'Lotad']"
     },
     "execution_count": 2,
     "metadata": {},
     "output_type": "execute_result"
    }
   ],
   "source": [
    "def getAllPokemons():\n",
    "    query = \"\"\"\n",
    "    SELECT ?object\n",
    "    WHERE {\n",
    "        GRAPH <https://pokemonkg.org/dataset/pokewiki-de-pokemonlist> {\n",
    "            ?subject ?predicate ?object .\n",
    "            FILTER (?predicate = <http://www.w3.org/2000/01/rdf-schema#label>)\n",
    "            FILTER (lang(?object) = \"\" || lang(?object) = \"en\")\n",
    "        }\n",
    "    }\n",
    "    \"\"\"\n",
    "\n",
    "    results = dataset.query(query)\n",
    "    pokemons = []\n",
    "    for result in results:\n",
    "        pokemon = str(result).split(\"Literal('\")[1].split(\"'\")[0]\n",
    "        pokemons.append(pokemon)\n",
    "\n",
    "    return pokemons\n",
    "\n",
    "getAllPokemons()"
   ]
  },
  {
   "cell_type": "code",
   "execution_count": 138,
   "metadata": {},
   "outputs": [
    {
     "data": {
      "text/plain": [
       "'https://pokemonkg.org/media/image/globallink/pokemon/pikachu.png'"
      ]
     },
     "execution_count": 138,
     "metadata": {},
     "output_type": "execute_result"
    }
   ],
   "source": [
    "def getPNGOf(pokemon):\n",
    "    imageLink = \"https://pokemonkg.org/media/image/globallink/pokemon/\"+pokemon+\".png\"\n",
    "    return imageLink\n",
    "    \n",
    "def getJPGOf(pokemon):\n",
    "    imageLink = \"https://pokemonkg.org/media/image/sugimori/pokemon/\"+pokemon+\".jpg\"\n",
    "    return imageLink\n",
    "\n",
    "getPNGOf(\"pikachu\")"
   ]
  },
  {
   "cell_type": "code",
   "execution_count": 120,
   "metadata": {},
   "outputs": [
    {
     "data": {
      "text/plain": [
       "['electric']"
      ]
     },
     "execution_count": 120,
     "metadata": {},
     "output_type": "execute_result"
    }
   ],
   "source": [
    "def getTypeOf(pokemon):\n",
    "    query = \"\"\"\n",
    "    SELECT ?object\n",
    "    WHERE {\n",
    "        GRAPH <https://pokemonkg.org/dataset/bulbapedia> {\n",
    "            ?subject ?predicate ?object .\n",
    "            FILTER (?subject = <https://pokemonkg.org/instance/pokemon/\"\"\"+pokemon+\"\"\">)\n",
    "            FILTER (?predicate = <https://pokemonkg.org/ontology#hasType>)\n",
    "        }\n",
    "    }\n",
    "    \"\"\"\n",
    "\n",
    "    results = dataset.query(query)\n",
    "    types = []\n",
    "    for row in results:\n",
    "        types.append(str(row).split(\"Type:\")[1].split(\"'\")[0].lower())\n",
    "\n",
    "    return types\n",
    "\n",
    "getTypeOf(\"pikachu\")"
   ]
  },
  {
   "cell_type": "code",
   "execution_count": 129,
   "metadata": {},
   "outputs": [
    {
     "data": {
      "text/plain": [
       "'yellow'"
      ]
     },
     "execution_count": 129,
     "metadata": {},
     "output_type": "execute_result"
    }
   ],
   "source": [
    "def getColorOf(pokemon):\n",
    "    query = \"\"\"\n",
    "    SELECT ?object\n",
    "    WHERE {\n",
    "        GRAPH <https://pokemonkg.org/dataset/bulbapedia> {\n",
    "            ?subject ?predicate ?object .\n",
    "            FILTER (?subject = <https://pokemonkg.org/instance/pokemon/\"\"\"+pokemon+\"\"\">)\n",
    "            FILTER (?predicate = <https://pokemonkg.org/ontology#hasColour>)\n",
    "        }\n",
    "    }\n",
    "    \"\"\"\n",
    "\n",
    "    result = dataset.query(query)\n",
    "    return str(result.bindings).split(\"resource/\")[1].split(\"'\")[0].lower()\n",
    "\n",
    "getColorOf(\"pikachu\")"
   ]
  },
  {
   "cell_type": "code",
   "execution_count": 137,
   "metadata": {},
   "outputs": [
    {
     "data": {
      "text/plain": [
       "'quadruped'"
      ]
     },
     "execution_count": 137,
     "metadata": {},
     "output_type": "execute_result"
    }
   ],
   "source": [
    "def getShapeOf(pokemon):\n",
    "    query = \"\"\"\n",
    "    SELECT ?object\n",
    "    WHERE {\n",
    "        GRAPH <https://pokemonkg.org/dataset/bulbapedia> {\n",
    "            ?subject ?predicate ?object .\n",
    "            FILTER (?subject = <https://pokemonkg.org/instance/pokemon/\"\"\"+pokemon+\"\"\">)\n",
    "            FILTER (?predicate = <https://pokemonkg.org/ontology#hasShape>)\n",
    "        }\n",
    "    }\n",
    "    \"\"\"\n",
    "\n",
    "    result = dataset.query(query)\n",
    "    return str(result.bindings).split(\"Shape:\")[1].split(\"'\")[0].lower()\n",
    "\n",
    "getShapeOf(\"pikachu\")"
   ]
  },
  {
   "cell_type": "code",
   "execution_count": 143,
   "metadata": {},
   "outputs": [
    {
     "data": {
      "text/plain": [
       "'0.4m'"
      ]
     },
     "execution_count": 143,
     "metadata": {},
     "output_type": "execute_result"
    }
   ],
   "source": [
    "def getHeightOf(pokemon):\n",
    "    query = \"\"\"\n",
    "    SELECT ?object\n",
    "    WHERE {\n",
    "        GRAPH <https://pokemonkg.org/dataset/bulbapedia> {\n",
    "            ?subject ?predicate ?object .\n",
    "            FILTER (?subject = <https://pokemonkg.org/instance/pokemon/\"\"\"+pokemon+\"\"\"/height/quantity>)\n",
    "            FILTER (?predicate = <http://qudt.org/schema/qudt/quantityValue>)\n",
    "        }\n",
    "    }\n",
    "    \"\"\"\n",
    "\n",
    "    result = dataset.query(query)\n",
    "    return str(result.bindings).split(\"value/\")[1].split(\"'\")[0].lower()\n",
    "\n",
    "getHeightOf(\"pikachu\")"
   ]
  },
  {
   "cell_type": "code",
   "execution_count": 144,
   "metadata": {},
   "outputs": [
    {
     "data": {
      "text/plain": [
       "'6.0kg'"
      ]
     },
     "execution_count": 144,
     "metadata": {},
     "output_type": "execute_result"
    }
   ],
   "source": [
    "def getWeightOf(pokemon):\n",
    "    query = \"\"\"\n",
    "    SELECT ?object\n",
    "    WHERE {\n",
    "        GRAPH <https://pokemonkg.org/dataset/bulbapedia> {\n",
    "            ?subject ?predicate ?object .\n",
    "            FILTER (?subject = <https://pokemonkg.org/instance/pokemon/\"\"\"+pokemon+\"\"\"/weight/quantity>)\n",
    "            FILTER (?predicate = <http://qudt.org/schema/qudt/quantityValue>)\n",
    "        }\n",
    "    }\n",
    "    \"\"\"\n",
    "\n",
    "    result = dataset.query(query)\n",
    "    return str(result.bindings).split(\"value/\")[1].split(\"'\")[0].lower()\n",
    "\n",
    "getWeightOf(\"pikachu\")"
   ]
  },
  {
   "cell_type": "code",
   "execution_count": 145,
   "metadata": {},
   "outputs": [
    {
     "data": {
      "text/plain": [
       "['smog',\n",
       " 'defense-curl',\n",
       " 'arm-thrust',\n",
       " 'rollout',\n",
       " 'tackle',\n",
       " 'heat-crash',\n",
       " 'ember',\n",
       " 'flare-blitz',\n",
       " 'flamethrower',\n",
       " 'flame-charge',\n",
       " 'odor-sleuth',\n",
       " 'assurance',\n",
       " 'roar',\n",
       " 'tail-whip',\n",
       " 'take-down',\n",
       " 'head-smash']"
      ]
     },
     "execution_count": 145,
     "metadata": {},
     "output_type": "execute_result"
    }
   ],
   "source": [
    "def getMovesOf(pokemon):\n",
    "    query = \"\"\"\n",
    "    SELECT ?object\n",
    "    WHERE {\n",
    "        GRAPH <https://pokemonkg.org/dataset/bulbapedia> {\n",
    "            ?subject ?predicate ?object .\n",
    "            FILTER (?subject = <https://pokemonkg.org/instance/pokemon/\"\"\"+pokemon+\"\"\">)\n",
    "            FILTER (?predicate = <https://pokemonkg.org/ontology#isAbleToApply>)\n",
    "        }\n",
    "    }\n",
    "    \"\"\"\n",
    "\n",
    "    results = dataset.query(query)\n",
    "    moves = []\n",
    "    for row in results:\n",
    "        moves.append(str(row).split(\"move/\")[1].split(\"'\")[0].lower())\n",
    "\n",
    "    return moves\n",
    "\n",
    "getMovesOf(\"pignite\")"
   ]
  },
  {
   "cell_type": "code",
   "execution_count": 146,
   "metadata": {},
   "outputs": [
    {
     "data": {
      "text/plain": [
       "['static']"
      ]
     },
     "execution_count": 146,
     "metadata": {},
     "output_type": "execute_result"
    }
   ],
   "source": [
    "def getPossibleAbilitesOf(pokemon):\n",
    "    query = \"\"\"\n",
    "    SELECT ?object\n",
    "    WHERE {\n",
    "        GRAPH <https://pokemonkg.org/dataset/bulbapedia> {\n",
    "            ?subject ?predicate ?object .\n",
    "            FILTER (?subject = <https://pokemonkg.org/instance/pokemon/\"\"\"+pokemon+\"\"\">)\n",
    "            FILTER (?predicate = <https://pokemonkg.org/ontology#mayHaveAbility>)\n",
    "        }\n",
    "    }\n",
    "    \"\"\"\n",
    "\n",
    "    results = dataset.query(query)\n",
    "    possibleAbilities = []\n",
    "    for row in results:\n",
    "        possibleAbilities.append(str(row).split(\"ability/\")[1].split(\"'\")[0].lower())\n",
    "\n",
    "    return possibleAbilities\n",
    "\n",
    "getPossibleAbilitesOf(\"pikachu\")"
   ]
  },
  {
   "cell_type": "code",
   "execution_count": 147,
   "metadata": {},
   "outputs": [
    {
     "data": {
      "text/plain": [
       "['lightning-rod']"
      ]
     },
     "execution_count": 147,
     "metadata": {},
     "output_type": "execute_result"
    }
   ],
   "source": [
    "def getHiddenAbilitesOf(pokemon):\n",
    "    query = \"\"\"\n",
    "    SELECT ?object\n",
    "    WHERE {\n",
    "        GRAPH <https://pokemonkg.org/dataset/bulbapedia> {\n",
    "            ?subject ?predicate ?object .\n",
    "            FILTER (?subject = <https://pokemonkg.org/instance/pokemon/\"\"\"+pokemon+\"\"\">)\n",
    "            FILTER (?predicate = <https://pokemonkg.org/ontology#mayHaveHiddenAbility>)\n",
    "        }\n",
    "    }\n",
    "    \"\"\"\n",
    "\n",
    "    results = dataset.query(query)\n",
    "    hiddenAbilities = []\n",
    "    for row in results:\n",
    "        hiddenAbilities.append(str(row).split(\"ability/\")[1].split(\"'\")[0].lower())\n",
    "\n",
    "    return hiddenAbilities\n",
    "\n",
    "getHiddenAbilitesOf(\"pikachu\")"
   ]
  },
  {
   "cell_type": "code",
   "execution_count": 150,
   "metadata": {},
   "outputs": [
    {
     "data": {
      "text/plain": [
       "'190'"
      ]
     },
     "execution_count": 150,
     "metadata": {},
     "output_type": "execute_result"
    }
   ],
   "source": [
    "def getCatchRateOf(pokemon):\n",
    "    query = \"\"\"\n",
    "    SELECT ?object\n",
    "    WHERE {\n",
    "        GRAPH <https://pokemonkg.org/dataset/bulbapedia> {\n",
    "            ?subject ?predicate ?object .\n",
    "            FILTER (?subject = <https://pokemonkg.org/instance/pokemon/\"\"\"+pokemon+\"\"\">)\n",
    "            FILTER (?predicate = <https://pokemonkg.org/ontology#hasCatchRate>)\n",
    "        }\n",
    "    }\n",
    "    \"\"\"\n",
    "\n",
    "    result = dataset.query(query)\n",
    "    return str(result.bindings).split(\"Literal('\")[1].split(\"'\")[0]\n",
    "\n",
    "getCatchRateOf(\"pikachu\")"
   ]
  },
  {
   "cell_type": "code",
   "execution_count": 3,
   "metadata": {},
   "outputs": [
    {
     "data": {
      "text/plain": [
       "'Pichu'"
      ]
     },
     "execution_count": 3,
     "metadata": {},
     "output_type": "execute_result"
    }
   ],
   "source": [
    "def getEvolvesFromOf(pokemon):\n",
    "    query = \"\"\"\n",
    "    SELECT ?object\n",
    "    WHERE {\n",
    "        GRAPH <https://pokemonkg.org/dataset/bulbapedia> {\n",
    "            ?subject ?predicate ?object .\n",
    "            FILTER (?subject = <https://pokemonkg.org/instance/pokemon/\"\"\"+pokemon+\"\"\">)\n",
    "            FILTER (?predicate = <http://www.w3.org/2000/01/rdf-schema#comment>)\n",
    "        }\n",
    "    }\n",
    "    \"\"\"\n",
    "\n",
    "    result = dataset.query(query)\n",
    "    return str(result.bindings).split(\"evolves from \")[1].split(\" \")[0]\n",
    "\n",
    "getEvolvesFromOf(\"pikachu\")"
   ]
  },
  {
   "cell_type": "code",
   "execution_count": 7,
   "metadata": {},
   "outputs": [
    {
     "data": {
      "text/plain": [
       "'Raichu'"
      ]
     },
     "execution_count": 7,
     "metadata": {},
     "output_type": "execute_result"
    }
   ],
   "source": [
    "def getEvolvesToOf(pokemon):\n",
    "    query = \"\"\"\n",
    "    SELECT ?object\n",
    "    WHERE {\n",
    "        GRAPH <https://pokemonkg.org/dataset/bulbapedia> {\n",
    "            ?subject ?predicate ?object .\n",
    "            FILTER (?subject = <https://pokemonkg.org/instance/pokemon/\"\"\"+pokemon+\"\"\">)\n",
    "            FILTER (?predicate = <http://www.w3.org/2000/01/rdf-schema#comment>)\n",
    "        }\n",
    "    }\n",
    "    \"\"\"\n",
    "\n",
    "    result = dataset.query(query)\n",
    "    return str(result.bindings).split(\"evolves into \")[1].split(\" \")[0]\n",
    "\n",
    "getEvolvesToOf(\"pikachu\")"
   ]
  },
  {
   "cell_type": "code",
   "execution_count": 8,
   "metadata": {},
   "outputs": [
    {
     "data": {
      "text/plain": [
       "'Forest'"
      ]
     },
     "execution_count": 8,
     "metadata": {},
     "output_type": "execute_result"
    }
   ],
   "source": [
    "def getHabitatOf(pokemon):\n",
    "    query = \"\"\"\n",
    "    SELECT ?object\n",
    "    WHERE {\n",
    "        GRAPH <http://pokemon.outofbits.com/dataset/pokeapi-co> {\n",
    "            ?subject ?predicate ?object .\n",
    "            FILTER (?subject = <https://pokemonkg.org/instance/pokemon/\"\"\"+pokemon+\"\"\">)\n",
    "            FILTER (?predicate = <https://pokemonkg.org/ontology#foundIn>)\n",
    "        }\n",
    "    }\n",
    "    \"\"\"\n",
    "\n",
    "    result = dataset.query(query)\n",
    "    return str(result.bindings).split(\"Habitat:\")[1].split(\"'\")[0]\n",
    "\n",
    "getHabitatOf(\"pikachu\")"
   ]
  },
  {
   "cell_type": "code",
   "execution_count": null,
   "metadata": {},
   "outputs": [],
   "source": [
    "def getGenusOf(pokemon):\n",
    "    query = \"\"\"\n",
    "    SELECT ?object\n",
    "    WHERE {\n",
    "        GRAPH <http://pokemon.outofbits.com/dataset/pokeapi-co> {\n",
    "            ?subject ?predicate ?object .\n",
    "            FILTER (?subject = <https://pokemonkg.org/instance/pokemon/\"\"\"+pokemon+\"\"\">)\n",
    "            FILTER (?predicate = <https://pokemonkg.org/ontology#foundIn>)\n",
    "        }\n",
    "    }\n",
    "    \"\"\"\n",
    "\n",
    "    result = dataset.query(query)\n",
    "    return str(result.bindings).split(\"Habitat:\")[1].split(\"'\")[0]\n",
    "\n",
    "getHabitatOf(\"pikachu\")"
   ]
  },
  {
   "cell_type": "code",
   "execution_count": null,
   "metadata": {},
   "outputs": [],
   "source": [
    "<https://pokemonkg.org/instance/pokemon/pikachu> <https://pokemonkg.org/ontology#hasGenus> \"Mouse Pokémon\"@en <http://pokemon.outofbits.com/dataset/pokeapi-co>\n",
    "\n"
   ]
  },
  {
   "cell_type": "markdown",
   "metadata": {},
   "source": [
    "GAME"
   ]
  },
  {
   "cell_type": "code",
   "execution_count": 7,
   "metadata": {},
   "outputs": [
    {
     "ename": "NameError",
     "evalue": "name 'dataset' is not defined",
     "output_type": "error",
     "traceback": [
      "\u001B[0;31m---------------------------------------------------------------------------\u001B[0m",
      "\u001B[0;31mNameError\u001B[0m                                 Traceback (most recent call last)",
      "Cell \u001B[0;32mIn[7], line 14\u001B[0m\n\u001B[1;32m      2\u001B[0m     query \u001B[38;5;241m=\u001B[39m \u001B[38;5;124m\"\"\"\u001B[39m\n\u001B[1;32m      3\u001B[0m \u001B[38;5;124m    SELECT ?object\u001B[39m\n\u001B[1;32m      4\u001B[0m \u001B[38;5;124m    WHERE \u001B[39m\u001B[38;5;124m{\u001B[39m\n\u001B[0;32m   (...)\u001B[0m\n\u001B[1;32m     10\u001B[0m \u001B[38;5;124m    }\u001B[39m\n\u001B[1;32m     11\u001B[0m \u001B[38;5;124m    \u001B[39m\u001B[38;5;124m\"\"\"\u001B[39m\n\u001B[1;32m     12\u001B[0m     \u001B[38;5;28;01mreturn\u001B[39;00m dataset\u001B[38;5;241m.\u001B[39mquery(query)\n\u001B[0;32m---> 14\u001B[0m \u001B[43mgetEvolvesFrom\u001B[49m\u001B[43m(\u001B[49m\u001B[38;5;124;43m\"\u001B[39;49m\u001B[38;5;124;43mpikachu\u001B[39;49m\u001B[38;5;124;43m\"\u001B[39;49m\u001B[43m)\u001B[49m\n",
      "Cell \u001B[0;32mIn[7], line 12\u001B[0m, in \u001B[0;36mgetEvolvesFrom\u001B[0;34m(pokemon)\u001B[0m\n\u001B[1;32m      1\u001B[0m \u001B[38;5;28;01mdef\u001B[39;00m \u001B[38;5;21mgetEvolvesFrom\u001B[39m(pokemon):\n\u001B[1;32m      2\u001B[0m     query \u001B[38;5;241m=\u001B[39m \u001B[38;5;124m\"\"\"\u001B[39m\n\u001B[1;32m      3\u001B[0m \u001B[38;5;124m    SELECT ?object\u001B[39m\n\u001B[1;32m      4\u001B[0m \u001B[38;5;124m    WHERE \u001B[39m\u001B[38;5;124m{\u001B[39m\n\u001B[0;32m   (...)\u001B[0m\n\u001B[1;32m     10\u001B[0m \u001B[38;5;124m    }\u001B[39m\n\u001B[1;32m     11\u001B[0m \u001B[38;5;124m    \u001B[39m\u001B[38;5;124m\"\"\"\u001B[39m\n\u001B[0;32m---> 12\u001B[0m     \u001B[38;5;28;01mreturn\u001B[39;00m \u001B[43mdataset\u001B[49m\u001B[38;5;241m.\u001B[39mquery(query)\n",
      "\u001B[0;31mNameError\u001B[0m: name 'dataset' is not defined"
     ]
    }
   ],
   "source": [
    "def getEvolvesFrom(pokemon):\n",
    "    query = \"\"\"\n",
    "    SELECT ?object\n",
    "    WHERE {\n",
    "        GRAPH <https://pokemonkg.org/dataset/bulbapedia> {\n",
    "            ?subject ?predicate ?object .\n",
    "            FILTER (?subject = <https://pokemonkg.org/instance/pokemon/\"\"\"+pokemon+\"\"\">)\n",
    "            FILTER (?predicate = <http://www.w3.org/2000/01/rdf-schema#comment>)\n",
    "        }\n",
    "    }\n",
    "    \"\"\"\n",
    "    return dataset.query(query)\n",
    "\n",
    "getEvolvesFrom(\"pikachu\")"
   ]
  }
 ],
 "metadata": {
  "kernelspec": {
   "display_name": "Python 3",
   "language": "python",
   "name": "python3"
  },
  "language_info": {
   "codemirror_mode": {
    "name": "ipython",
    "version": 3
   },
   "file_extension": ".py",
   "mimetype": "text/x-python",
   "name": "python",
   "nbconvert_exporter": "python",
   "pygments_lexer": "ipython3",
   "version": "3.9.18"
  }
 },
 "nbformat": 4,
 "nbformat_minor": 2
}
