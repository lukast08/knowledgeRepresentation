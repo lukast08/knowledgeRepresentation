{
 "cells": [
  {
   "cell_type": "code",
   "execution_count": 1,
   "metadata": {},
   "outputs": [],
   "source": [
    "from rdflib import Graph, Dataset, RDF\n",
    "dataset = Dataset()\n",
    "try:\n",
    "    dataset.parse(\"poke-a.nq\")\n",
    "except Exception as e:\n",
    "    print(e)\n"
   ]
  },
  {
   "cell_type": "code",
   "execution_count": null,
   "metadata": {},
   "outputs": [],
   "source": [
    "def getAllPokemons():\n",
    "    query = \"\"\"\n",
    "    SELECT ?object\n",
    "    WHERE {\n",
    "        GRAPH <https://pokemonkg.org/dataset/pokewiki-de-pokemonlist> {\n",
    "            ?subject ?predicate ?object .\n",
    "            FILTER (?predicate = <http://www.w3.org/2000/01/rdf-schema#label>)\n",
    "            FILTER (lang(?object) = \"\" || lang(?object) = \"en\")\n",
    "        }\n",
    "    }\n",
    "    \"\"\"\n",
    "\n",
    "    results = dataset.query(query)\n",
    "    pokemons = []\n",
    "    for result in results:\n",
    "        pokemon = str(result).split(\"Literal('\")[1].split(\"'\")[0]\n",
    "        pokemons.append(pokemon)\n",
    "\n",
    "    return pokemons\n",
    "\n",
    "getAllPokemons()"
   ]
  },
  {
   "cell_type": "code",
   "execution_count": 138,
   "metadata": {},
   "outputs": [
    {
     "data": {
      "text/plain": [
       "'https://pokemonkg.org/media/image/globallink/pokemon/pikachu.png'"
      ]
     },
     "execution_count": 138,
     "metadata": {},
     "output_type": "execute_result"
    }
   ],
   "source": [
    "def getPNGOf(pokemon):\n",
    "    imageLink = \"https://pokemonkg.org/media/image/globallink/pokemon/\"+pokemon+\".png\"\n",
    "    return imageLink\n",
    "    \n",
    "def getJPGOf(pokemon):\n",
    "    imageLink = \"https://pokemonkg.org/media/image/sugimori/pokemon/\"+pokemon+\".jpg\"\n",
    "    return imageLink\n",
    "\n",
    "getPNGOf(\"pikachu\")"
   ]
  },
  {
   "cell_type": "code",
   "execution_count": 120,
   "metadata": {},
   "outputs": [
    {
     "data": {
      "text/plain": [
       "['electric']"
      ]
     },
     "execution_count": 120,
     "metadata": {},
     "output_type": "execute_result"
    }
   ],
   "source": [
    "def getTypeOf(pokemon):\n",
    "    query = \"\"\"\n",
    "    SELECT ?object\n",
    "    WHERE {\n",
    "        GRAPH <https://pokemonkg.org/dataset/bulbapedia> {\n",
    "            ?subject ?predicate ?object .\n",
    "            FILTER (?subject = <https://pokemonkg.org/instance/pokemon/\"\"\"+pokemon+\"\"\">)\n",
    "            FILTER (?predicate = <https://pokemonkg.org/ontology#hasType>)\n",
    "        }\n",
    "    }\n",
    "    \"\"\"\n",
    "\n",
    "    results = dataset.query(query)\n",
    "    types = []\n",
    "    for row in results:\n",
    "        types.append(str(row).split(\"Type:\")[1].split(\"'\")[0].lower())\n",
    "\n",
    "    return types\n",
    "\n",
    "getTypeOf(\"pikachu\")"
   ]
  },
  {
   "cell_type": "code",
   "execution_count": 129,
   "metadata": {},
   "outputs": [
    {
     "data": {
      "text/plain": [
       "'yellow'"
      ]
     },
     "execution_count": 129,
     "metadata": {},
     "output_type": "execute_result"
    }
   ],
   "source": [
    "def getColorOf(pokemon):\n",
    "    query = \"\"\"\n",
    "    SELECT ?object\n",
    "    WHERE {\n",
    "        GRAPH <https://pokemonkg.org/dataset/bulbapedia> {\n",
    "            ?subject ?predicate ?object .\n",
    "            FILTER (?subject = <https://pokemonkg.org/instance/pokemon/\"\"\"+pokemon+\"\"\">)\n",
    "            FILTER (?predicate = <https://pokemonkg.org/ontology#hasColour>)\n",
    "        }\n",
    "    }\n",
    "    \"\"\"\n",
    "\n",
    "    result = dataset.query(query)\n",
    "    return str(result.bindings).split(\"resource/\")[1].split(\"'\")[0].lower()\n",
    "\n",
    "getColorOf(\"pikachu\")"
   ]
  },
  {
   "cell_type": "code",
   "execution_count": 137,
   "metadata": {},
   "outputs": [
    {
     "data": {
      "text/plain": [
       "'quadruped'"
      ]
     },
     "execution_count": 137,
     "metadata": {},
     "output_type": "execute_result"
    }
   ],
   "source": [
    "def getShapeOf(pokemon):\n",
    "    query = \"\"\"\n",
    "    SELECT ?object\n",
    "    WHERE {\n",
    "        GRAPH <https://pokemonkg.org/dataset/bulbapedia> {\n",
    "            ?subject ?predicate ?object .\n",
    "            FILTER (?subject = <https://pokemonkg.org/instance/pokemon/\"\"\"+pokemon+\"\"\">)\n",
    "            FILTER (?predicate = <https://pokemonkg.org/ontology#hasShape>)\n",
    "        }\n",
    "    }\n",
    "    \"\"\"\n",
    "\n",
    "    result = dataset.query(query)\n",
    "    return str(result.bindings).split(\"Shape:\")[1].split(\"'\")[0].lower()\n",
    "\n",
    "getShapeOf(\"pikachu\")"
   ]
  },
  {
   "cell_type": "code",
   "execution_count": 143,
   "metadata": {},
   "outputs": [
    {
     "data": {
      "text/plain": [
       "'0.4m'"
      ]
     },
     "execution_count": 143,
     "metadata": {},
     "output_type": "execute_result"
    }
   ],
   "source": [
    "def getHeightOf(pokemon):\n",
    "    query = \"\"\"\n",
    "    SELECT ?object\n",
    "    WHERE {\n",
    "        GRAPH <https://pokemonkg.org/dataset/bulbapedia> {\n",
    "            ?subject ?predicate ?object .\n",
    "            FILTER (?subject = <https://pokemonkg.org/instance/pokemon/\"\"\"+pokemon+\"\"\"/height/quantity>)\n",
    "            FILTER (?predicate = <http://qudt.org/schema/qudt/quantityValue>)\n",
    "        }\n",
    "    }\n",
    "    \"\"\"\n",
    "\n",
    "    result = dataset.query(query)\n",
    "    return str(result.bindings).split(\"value/\")[1].split(\"'\")[0].lower()\n",
    "\n",
    "getHeightOf(\"pikachu\")"
   ]
  },
  {
   "cell_type": "code",
   "execution_count": 144,
   "metadata": {},
   "outputs": [
    {
     "data": {
      "text/plain": [
       "'6.0kg'"
      ]
     },
     "execution_count": 144,
     "metadata": {},
     "output_type": "execute_result"
    }
   ],
   "source": [
    "def getWeightOf(pokemon):\n",
    "    query = \"\"\"\n",
    "    SELECT ?object\n",
    "    WHERE {\n",
    "        GRAPH <https://pokemonkg.org/dataset/bulbapedia> {\n",
    "            ?subject ?predicate ?object .\n",
    "            FILTER (?subject = <https://pokemonkg.org/instance/pokemon/\"\"\"+pokemon+\"\"\"/weight/quantity>)\n",
    "            FILTER (?predicate = <http://qudt.org/schema/qudt/quantityValue>)\n",
    "        }\n",
    "    }\n",
    "    \"\"\"\n",
    "\n",
    "    result = dataset.query(query)\n",
    "    return str(result.bindings).split(\"value/\")[1].split(\"'\")[0].lower()\n",
    "\n",
    "getWeightOf(\"pikachu\")"
   ]
  },
  {
   "cell_type": "code",
   "execution_count": 145,
   "metadata": {},
   "outputs": [
    {
     "data": {
      "text/plain": [
       "['smog',\n",
       " 'defense-curl',\n",
       " 'arm-thrust',\n",
       " 'rollout',\n",
       " 'tackle',\n",
       " 'heat-crash',\n",
       " 'ember',\n",
       " 'flare-blitz',\n",
       " 'flamethrower',\n",
       " 'flame-charge',\n",
       " 'odor-sleuth',\n",
       " 'assurance',\n",
       " 'roar',\n",
       " 'tail-whip',\n",
       " 'take-down',\n",
       " 'head-smash']"
      ]
     },
     "execution_count": 145,
     "metadata": {},
     "output_type": "execute_result"
    }
   ],
   "source": [
    "def getMovesOf(pokemon):\n",
    "    query = \"\"\"\n",
    "    SELECT ?object\n",
    "    WHERE {\n",
    "        GRAPH <https://pokemonkg.org/dataset/bulbapedia> {\n",
    "            ?subject ?predicate ?object .\n",
    "            FILTER (?subject = <https://pokemonkg.org/instance/pokemon/\"\"\"+pokemon+\"\"\">)\n",
    "            FILTER (?predicate = <https://pokemonkg.org/ontology#isAbleToApply>)\n",
    "        }\n",
    "    }\n",
    "    \"\"\"\n",
    "\n",
    "    results = dataset.query(query)\n",
    "    moves = []\n",
    "    for row in results:\n",
    "        moves.append(str(row).split(\"move/\")[1].split(\"'\")[0].lower())\n",
    "\n",
    "    return moves\n",
    "\n",
    "getMovesOf(\"pignite\")"
   ]
  },
  {
   "cell_type": "code",
   "execution_count": 146,
   "metadata": {},
   "outputs": [
    {
     "data": {
      "text/plain": [
       "['static']"
      ]
     },
     "execution_count": 146,
     "metadata": {},
     "output_type": "execute_result"
    }
   ],
   "source": [
    "def getPossibleAbilitesOf(pokemon):\n",
    "    query = \"\"\"\n",
    "    SELECT ?object\n",
    "    WHERE {\n",
    "        GRAPH <https://pokemonkg.org/dataset/bulbapedia> {\n",
    "            ?subject ?predicate ?object .\n",
    "            FILTER (?subject = <https://pokemonkg.org/instance/pokemon/\"\"\"+pokemon+\"\"\">)\n",
    "            FILTER (?predicate = <https://pokemonkg.org/ontology#mayHaveAbility>)\n",
    "        }\n",
    "    }\n",
    "    \"\"\"\n",
    "\n",
    "    results = dataset.query(query)\n",
    "    possibleAbilities = []\n",
    "    for row in results:\n",
    "        possibleAbilities.append(str(row).split(\"ability/\")[1].split(\"'\")[0].lower())\n",
    "\n",
    "    return possibleAbilities\n",
    "\n",
    "getPossibleAbilitesOf(\"pikachu\")"
   ]
  },
  {
   "cell_type": "code",
   "execution_count": 147,
   "metadata": {},
   "outputs": [
    {
     "data": {
      "text/plain": [
       "['lightning-rod']"
      ]
     },
     "execution_count": 147,
     "metadata": {},
     "output_type": "execute_result"
    }
   ],
   "source": [
    "def getHiddenAbilitesOf(pokemon):\n",
    "    query = \"\"\"\n",
    "    SELECT ?object\n",
    "    WHERE {\n",
    "        GRAPH <https://pokemonkg.org/dataset/bulbapedia> {\n",
    "            ?subject ?predicate ?object .\n",
    "            FILTER (?subject = <https://pokemonkg.org/instance/pokemon/\"\"\"+pokemon+\"\"\">)\n",
    "            FILTER (?predicate = <https://pokemonkg.org/ontology#mayHaveHiddenAbility>)\n",
    "        }\n",
    "    }\n",
    "    \"\"\"\n",
    "\n",
    "    results = dataset.query(query)\n",
    "    hiddenAbilities = []\n",
    "    for row in results:\n",
    "        hiddenAbilities.append(str(row).split(\"ability/\")[1].split(\"'\")[0].lower())\n",
    "\n",
    "    return hiddenAbilities\n",
    "\n",
    "getHiddenAbilitesOf(\"pikachu\")"
   ]
  },
  {
   "cell_type": "code",
   "execution_count": 150,
   "metadata": {},
   "outputs": [
    {
     "data": {
      "text/plain": [
       "'190'"
      ]
     },
     "execution_count": 150,
     "metadata": {},
     "output_type": "execute_result"
    }
   ],
   "source": [
    "def getCatchRateOf(pokemon):\n",
    "    query = \"\"\"\n",
    "    SELECT ?object\n",
    "    WHERE {\n",
    "        GRAPH <https://pokemonkg.org/dataset/bulbapedia> {\n",
    "            ?subject ?predicate ?object .\n",
    "            FILTER (?subject = <https://pokemonkg.org/instance/pokemon/\"\"\"+pokemon+\"\"\">)\n",
    "            FILTER (?predicate = <https://pokemonkg.org/ontology#hasCatchRate>)\n",
    "        }\n",
    "    }\n",
    "    \"\"\"\n",
    "\n",
    "    result = dataset.query(query)\n",
    "    return str(result.bindings).split(\"Literal('\")[1].split(\"'\")[0]\n",
    "\n",
    "getCatchRateOf(\"pikachu\")"
   ]
  },
  {
   "cell_type": "code",
   "execution_count": 14,
   "metadata": {},
   "outputs": [
    {
     "data": {
      "text/plain": [
       "'Pichu'"
      ]
     },
     "execution_count": 14,
     "metadata": {},
     "output_type": "execute_result"
    }
   ],
   "source": [
    "def getEvolvesFromOf(pokemon):\n",
    "    query = \"\"\"\n",
    "    SELECT ?object\n",
    "    WHERE {\n",
    "        GRAPH <https://pokemonkg.org/dataset/bulbapedia> {\n",
    "            ?subject ?predicate ?object .\n",
    "            FILTER (?subject = <https://pokemonkg.org/instance/pokemon/\"\"\"+pokemon+\"\"\">)\n",
    "            FILTER (?predicate = <http://www.w3.org/2000/01/rdf-schema#comment>)\n",
    "        }\n",
    "    }\n",
    "    \"\"\"\n",
    "\n",
    "    result = dataset.query(query)\n",
    "    return str(result.bindings).split(\"evolves from \")[1].split(\" \")[0]\n",
    "\n",
    "getEvolvesFromOf(\"pikachu\")"
   ]
  },
  {
   "cell_type": "code",
   "execution_count": 13,
   "metadata": {},
   "outputs": [
    {
     "data": {
      "text/plain": [
       "'Raichu'"
      ]
     },
     "execution_count": 13,
     "metadata": {},
     "output_type": "execute_result"
    }
   ],
   "source": [
    "def getEvolvesToOf(pokemon):\n",
    "    query = \"\"\"\n",
    "    SELECT ?object\n",
    "    WHERE {\n",
    "        GRAPH <https://pokemonkg.org/dataset/bulbapedia> {\n",
    "            ?subject ?predicate ?object .\n",
    "            FILTER (?subject = <https://pokemonkg.org/instance/pokemon/\"\"\"+pokemon+\"\"\">)\n",
    "            FILTER (?predicate = <http://www.w3.org/2000/01/rdf-schema#comment>)\n",
    "        }\n",
    "    }\n",
    "    \"\"\"\n",
    "\n",
    "    result = dataset.query(query)\n",
    "    return str(result.bindings).split(\"evolves into \")[1].split(\" \")[0]\n",
    "\n",
    "getEvolvesToOf(\"pikachu\")"
   ]
  },
  {
   "cell_type": "code",
   "execution_count": 11,
   "metadata": {},
   "outputs": [
    {
     "data": {
      "text/plain": [
       "'Forest'"
      ]
     },
     "execution_count": 11,
     "metadata": {},
     "output_type": "execute_result"
    }
   ],
   "source": [
    "def getHabitatOf(pokemon):\n",
    "    query = \"\"\"\n",
    "    SELECT ?object\n",
    "    WHERE {\n",
    "        GRAPH <http://pokemon.outofbits.com/dataset/pokeapi-co> {\n",
    "            ?subject ?predicate ?object .\n",
    "            FILTER (?subject = <https://pokemonkg.org/instance/pokemon/\"\"\"+pokemon+\"\"\">)\n",
    "            FILTER (?predicate = <https://pokemonkg.org/ontology#foundIn>)\n",
    "        }\n",
    "    }\n",
    "    \"\"\"\n",
    "\n",
    "    result = dataset.query(query)\n",
    "    return str(result.bindings).split(\"Habitat:\")[1].split(\"'\")[0]\n",
    "\n",
    "getHabitatOf(\"pikachu\")"
   ]
  },
  {
   "cell_type": "code",
   "execution_count": 19,
   "metadata": {},
   "outputs": [
    {
     "data": {
      "text/plain": [
       "'mouse pokémon'"
      ]
     },
     "execution_count": 19,
     "metadata": {},
     "output_type": "execute_result"
    }
   ],
   "source": [
    "def getGenusOf(pokemon):\n",
    "    query = \"\"\"\n",
    "    SELECT ?object\n",
    "    WHERE {\n",
    "        GRAPH <http://pokemon.outofbits.com/dataset/pokeapi-co> {\n",
    "            ?subject ?predicate ?object .\n",
    "            FILTER (?subject = <https://pokemonkg.org/instance/pokemon/\"\"\"+pokemon+\"\"\">)\n",
    "            FILTER (?predicate = <https://pokemonkg.org/ontology#hasGenus>)\n",
    "            FILTER (lang(?object) = \"\" || lang(?object) = \"en\")\n",
    "        }\n",
    "    }\n",
    "    \"\"\"\n",
    "\n",
    "    result = dataset.query(query)\n",
    "    return str(result.bindings).split(\"Literal('\")[1].split(\"'\")[0].lower()\n",
    "\n",
    "getGenusOf(\"pikachu\")"
   ]
  },
  {
   "cell_type": "code",
   "execution_count": 18,
   "metadata": {},
   "outputs": [
    {
     "data": {
      "text/plain": [
       "['extended-sinnoh',\n",
       " 'original-sinnoh',\n",
       " 'kalos-central',\n",
       " 'national',\n",
       " 'updated-hoenn',\n",
       " 'kanto',\n",
       " 'hoenn',\n",
       " 'updated-johto',\n",
       " 'conquest-gallery',\n",
       " 'original-johto']"
      ]
     },
     "execution_count": 18,
     "metadata": {},
     "output_type": "execute_result"
    }
   ],
   "source": [
    "def getRegionOf(pokemon):\n",
    "    query = \"\"\"\n",
    "    SELECT ?subject\n",
    "    WHERE {\n",
    "        GRAPH <http://pokemon.outofbits.com/dataset/pokeapi-co> {\n",
    "            ?subject ?predicate ?object .\n",
    "            \n",
    "            FILTER (?predicate = <https://pokemonkg.org/ontology#describesPokémon>)\n",
    "            FILTER (?object = <https://pokemonkg.org/instance/pokemon/\"\"\"+pokemon+\"\"\">)\n",
    "        }\n",
    "    }\n",
    "    \"\"\"\n",
    "\n",
    "    results = dataset.query(query)\n",
    "    regions = []\n",
    "    for row in results:\n",
    "        regions.append(str(row).split(\"pokedex/\")[1].split(\"/\")[0].lower())\n",
    "\n",
    "    return regions\n",
    "\n",
    "getRegionOf(\"pikachu\")"
   ]
  },
  {
   "cell_type": "code",
   "execution_count": null,
   "metadata": {},
   "outputs": [],
   "source": [
    "<https://pokemonkg.org/ontology#describesPokémon> <https://pokemonkg.org/instance/pokemon/rhydon>"
   ]
  }
 ],
 "metadata": {
  "kernelspec": {
   "display_name": "Python 3",
   "language": "python",
   "name": "python3"
  },
  "language_info": {
   "codemirror_mode": {
    "name": "ipython",
    "version": 3
   },
   "file_extension": ".py",
   "mimetype": "text/x-python",
   "name": "python",
   "nbconvert_exporter": "python",
   "pygments_lexer": "ipython3",
   "version": "3.9.13"
  }
 },
 "nbformat": 4,
 "nbformat_minor": 2
}
